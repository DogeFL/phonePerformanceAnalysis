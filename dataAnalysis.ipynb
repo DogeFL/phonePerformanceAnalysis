{
 "cells": [
  {
   "cell_type": "code",
   "execution_count": 57,
   "metadata": {},
   "outputs": [
    {
     "data": {
      "text/plain": [
       "import spark.implicits._\n"
      ]
     },
     "execution_count": 57,
     "metadata": {},
     "output_type": "execute_result"
    }
   ],
   "source": [
    "// Import libs for dataframe\n",
    "\n",
    "spark.conf.set(\"spark.sql.repl.eagerEval.enabled\", true)\n",
    "import spark.implicits._ \n"
   ]
  },
  {
   "cell_type": "code",
   "execution_count": 43,
   "metadata": {},
   "outputs": [
    {
     "data": {
      "text/plain": [
       "path1: String = data/android-benchmarks.json\n",
       "path2: String = data/gsm.csv\n",
       "df1: org.apache.spark.sql.DataFrame = [description: string, family: string ... 7 more fields]\n",
       "df2: org.apache.spark.sql.DataFrame = [oem: string, model: string ... 84 more fields]\n"
      ]
     },
     "execution_count": 43,
     "metadata": {},
     "output_type": "execute_result"
    }
   ],
   "source": [
    "// Load the data\n",
    "\n",
    "val path1 = \"data/android-benchmarks.json\"\n",
    "val path2 = \"data/gsm.csv\"\n",
    "val df1 = spark.read.option(\"multiLine\", true).json(path1)\n",
    "val df2 = spark.read.option(\"delimiter\", \",\").option(\"inferSchema\", true).option(\"header\", true).csv(path2)"
   ]
  },
  {
   "cell_type": "code",
   "execution_count": 44,
   "metadata": {},
   "outputs": [
    {
     "name": "stdout",
     "output_type": "stream",
     "text": [
      "root\n",
      " |-- description: string (nullable = true)\n",
      " |-- family: string (nullable = true)\n",
      " |-- icon: string (nullable = true)\n",
      " |-- id: long (nullable = true)\n",
      " |-- multicore_score: long (nullable = true)\n",
      " |-- name: string (nullable = true)\n",
      " |-- opencl: long (nullable = true)\n",
      " |-- samples: long (nullable = true)\n",
      " |-- score: long (nullable = true)\n",
      "\n",
      "root\n",
      " |-- oem: string (nullable = true)\n",
      " |-- model: string (nullable = true)\n",
      " |-- network_technology: string (nullable = true)\n",
      " |-- network_2g_bands: string (nullable = true)\n",
      " |-- network_gprs: string (nullable = true)\n",
      " |-- network_edge: string (nullable = true)\n",
      " |-- launch_announced: string (nullable = true)\n",
      " |-- launch_status: string (nullable = true)\n",
      " |-- body_dimensions: string (nullable = true)\n",
      " |-- body_weight: string (nullable = true)\n",
      " |-- body_sim: string (nullable = true)\n",
      " |-- display_type: string (nullable = true)\n",
      " |-- display_size: string (nullable = true)\n",
      " |-- display_resolution: string (nullable = true)\n",
      " |-- display: string (nullable = true)\n",
      " |-- memory_card_slot: string (nullable = true)\n",
      " |-- memory_phonebook: string (nullable = true)\n",
      " |-- memory_call_records: string (nullable = true)\n",
      " |-- sound_loudspeaker: string (nullable = true)\n",
      " |-- sound_alert_types: string (nullable = true)\n",
      " |-- sound_3.5mm_jack: string (nullable = true)\n",
      " |-- comms_wlan: string (nullable = true)\n",
      " |-- comms_bluetooth: string (nullable = true)\n",
      " |-- comms_gps: string (nullable = true)\n",
      " |-- comms_radio: string (nullable = true)\n",
      " |-- comms_usb: string (nullable = true)\n",
      " |-- features_sensors: string (nullable = true)\n",
      " |-- features_messaging: string (nullable = true)\n",
      " |-- features_browser: string (nullable = true)\n",
      " |-- features_clock: string (nullable = true)\n",
      " |-- features_alarm: string (nullable = true)\n",
      " |-- features_games: string (nullable = true)\n",
      " |-- features_java: string (nullable = true)\n",
      " |-- features: string (nullable = true)\n",
      " |-- misc_colors: string (nullable = true)\n",
      " |-- network_3g_bands: string (nullable = true)\n",
      " |-- network_speed: string (nullable = true)\n",
      " |-- platform_os: string (nullable = true)\n",
      " |-- platform_chipset: string (nullable = true)\n",
      " |-- platform_cpu: string (nullable = true)\n",
      " |-- platform_gpu: string (nullable = true)\n",
      " |-- memory_internal: string (nullable = true)\n",
      " |-- main_camera_single: string (nullable = true)\n",
      " |-- main_camera_video: string (nullable = true)\n",
      " |-- misc_price: string (nullable = true)\n",
      " |-- main_camera_features: string (nullable = true)\n",
      " |-- body: string (nullable = true)\n",
      " |-- network_4g_bands: string (nullable = true)\n",
      " |-- body_build: string (nullable = true)\n",
      " |-- display_protection: string (nullable = true)\n",
      " |-- memory: string (nullable = true)\n",
      " |-- main_camera_dual: string (nullable = true)\n",
      " |-- selfie_camera_dual: string (nullable = true)\n",
      " |-- selfie_camera_features: string (nullable = true)\n",
      " |-- selfie_camera_video: string (nullable = true)\n",
      " |-- comms_nfc: string (nullable = true)\n",
      " |-- battery_charging: string (nullable = true)\n",
      " |-- misc_models: string (nullable = true)\n",
      " |-- tests_performance: string (nullable = true)\n",
      " |-- tests_camera: string (nullable = true)\n",
      " |-- tests_loudspeaker: string (nullable = true)\n",
      " |-- tests_audio_quality: string (nullable = true)\n",
      " |-- tests_battery_life: string (nullable = true)\n",
      " |-- tests_display: string (nullable = true)\n",
      " |-- selfie_camera_single: string (nullable = true)\n",
      " |-- comms_infrared_port: string (nullable = true)\n",
      " |-- network_5g_bands: string (nullable = true)\n",
      " |-- main_camera_quad: string (nullable = true)\n",
      " |-- main_camera_triple: string (nullable = true)\n",
      " |-- sound: string (nullable = true)\n",
      " |-- misc_sar_eu: string (nullable = true)\n",
      " |-- main_camera_five: string (nullable = true)\n",
      " |-- features_languages: string (nullable = true)\n",
      " |-- body_keyboard: string (nullable = true)\n",
      " |-- misc_sar: string (nullable = true)\n",
      " |-- battery: string (nullable = true)\n",
      " |-- main_camera_dual_or_triple: string (nullable = true)\n",
      " |-- battery_music_play: string (nullable = true)\n",
      " |-- selfie_camera_triple: string (nullable = true)\n",
      " |-- main_camera_v1: string (nullable = true)\n",
      " |-- selfie_camera: string (nullable = true)\n",
      " |-- camera: string (nullable = true)\n",
      " |-- main_camera: string (nullable = true)\n",
      " |-- network: string (nullable = true)\n",
      " |-- battery_talk_time: string (nullable = true)\n",
      " |-- battery_stand.by: string (nullable = true)\n",
      "\n"
     ]
    }
   ],
   "source": [
    "// Print schema\n",
    "\n",
    "df1.printSchema()\n",
    "df2.printSchema()"
   ]
  },
  {
   "cell_type": "code",
   "execution_count": 45,
   "metadata": {},
   "outputs": [],
   "source": [
    "// Data checking"
   ]
  },
  {
   "cell_type": "code",
   "execution_count": 58,
   "metadata": {
    "scrolled": true
   },
   "outputs": [
    {
     "name": "stdout",
     "output_type": "stream",
     "text": [
      "+---+-----+------------------+----------------+------------+------------+----------------+-------------+---------------+-----------+--------+------------+------------+------------------+-------+----------------+----------------+-------------------+-----------------+-----------------+----------------+----------+---------------+---------+-----------+---------+----------------+------------------+----------------+--------------+--------------+--------------+-------------+--------+-----------+----------------+-------------+-----------+----------------+------------+------------+---------------+------------------+-----------------+----------+--------------------+----+----------------+----------+------------------+------+----------------+------------------+----------------------+-------------------+---------+----------------+-----------+-----------------+------------+-----------------+-------------------+------------------+-------------+--------------------+-------------------+----------------+----------------+------------------+-----+-----------+----------------+------------------+-------------+--------+-------+--------------------------+------------------+--------------------+--------------+-------------+------+-----------+-------+-----------------+----------------+\n",
      "|oem|model|network_technology|network_2g_bands|network_gprs|network_edge|launch_announced|launch_status|body_dimensions|body_weight|body_sim|display_type|display_size|display_resolution|display|memory_card_slot|memory_phonebook|memory_call_records|sound_loudspeaker|sound_alert_types|sound_3.5mm_jack|comms_wlan|comms_bluetooth|comms_gps|comms_radio|comms_usb|features_sensors|features_messaging|features_browser|features_clock|features_alarm|features_games|features_java|features|misc_colors|network_3g_bands|network_speed|platform_os|platform_chipset|platform_cpu|platform_gpu|memory_internal|main_camera_single|main_camera_video|misc_price|main_camera_features|body|network_4g_bands|body_build|display_protection|memory|main_camera_dual|selfie_camera_dual|selfie_camera_features|selfie_camera_video|comms_nfc|battery_charging|misc_models|tests_performance|tests_camera|tests_loudspeaker|tests_audio_quality|tests_battery_life|tests_display|selfie_camera_single|comms_infrared_port|network_5g_bands|main_camera_quad|main_camera_triple|sound|misc_sar_eu|main_camera_five|features_languages|body_keyboard|misc_sar|battery|main_camera_dual_or_triple|battery_music_play|selfie_camera_triple|main_camera_v1|selfie_camera|camera|main_camera|network|battery_talk_time|battery_stand.by|\n",
      "+---+-----+------------------+----------------+------------+------------+----------------+-------------+---------------+-----------+--------+------------+------------+------------------+-------+----------------+----------------+-------------------+-----------------+-----------------+----------------+----------+---------------+---------+-----------+---------+----------------+------------------+----------------+--------------+--------------+--------------+-------------+--------+-----------+----------------+-------------+-----------+----------------+------------+------------+---------------+------------------+-----------------+----------+--------------------+----+----------------+----------+------------------+------+----------------+------------------+----------------------+-------------------+---------+----------------+-----------+-----------------+------------+-----------------+-------------------+------------------+-------------+--------------------+-------------------+----------------+----------------+------------------+-----+-----------+----------------+------------------+-------------+--------+-------+--------------------------+------------------+--------------------+--------------+-------------+------+-----------+-------+-----------------+----------------+\n",
      "+---+-----+------------------+----------------+------------+------------+----------------+-------------+---------------+-----------+--------+------------+------------+------------------+-------+----------------+----------------+-------------------+-----------------+-----------------+----------------+----------+---------------+---------+-----------+---------+----------------+------------------+----------------+--------------+--------------+--------------+-------------+--------+-----------+----------------+-------------+-----------+----------------+------------+------------+---------------+------------------+-----------------+----------+--------------------+----+----------------+----------+------------------+------+----------------+------------------+----------------------+-------------------+---------+----------------+-----------+-----------------+------------+-----------------+-------------------+------------------+-------------+--------------------+-------------------+----------------+----------------+------------------+-----+-----------+----------------+------------------+-------------+--------+-------+--------------------------+------------------+--------------------+--------------+-------------+------+-----------+-------+-----------------+----------------+\n",
      "\n"
     ]
    }
   ],
   "source": [
    "// Filter null data\n",
    "df2.filter(\"oem is null\").show()\n"
   ]
  },
  {
   "cell_type": "code",
   "execution_count": 25,
   "metadata": {},
   "outputs": [],
   "source": [
    "// Create a view\n",
    "\n",
    "df1.createOrReplaceTempView(\"benchmark\")"
   ]
  },
  {
   "cell_type": "code",
   "execution_count": 30,
   "metadata": {},
   "outputs": [
    {
     "name": "stdout",
     "output_type": "stream",
     "text": [
      "+--------------------+-------+--------------------+---+---------------+--------------------+------+-------+-----+\n",
      "|         description| family|                icon| id|multicore_score|                name|opencl|samples|score|\n",
      "+--------------------+-------+--------------------+---+---------------+--------------------+------+-------+-----+\n",
      "|NVIDIA Tegra K1 D...|    HTC|             nexus-9|190|            542|         HTC Nexus 9|  null|    140|  316|\n",
      "|Samsung Exynos 74...|Samsung|samsung-galaxy-s6...|207|            881|   Samsung Galaxy S6|   922|   1379|  219|\n",
      "|Qualcomm Snapdrag...|    HTC|          htc-one-m9|208|            523|          HTC One M9|   673|     62|  222|\n",
      "|Samsung Exynos 74...|Samsung|samsung-galaxy-s6...|209|            906|Samsung Galaxy S6...|   987|    604|  237|\n",
      "|Samsung Exynos 74...|Samsung|samsung-galaxy-no...|213|            908|Samsung Galaxy No...|  1030|   2974|  214|\n",
      "|Qualcomm Snapdrag...|OnePlus|           oneplus-2|214|            537|           OnePlus 2|  null|     89|  194|\n",
      "|Qualcomm Snapdrag...| Huawei|     huawei-nexus-6p|215|            503|     Huawei Nexus 6P|  null|    237|  204|\n",
      "|Samsung Exynos 74...|Samsung|samsung-galaxy-s6...|216|            919|Samsung Galaxy S6...|  1063|    230|  239|\n",
      "|Qualcomm Snapdrag...|     LG|         lg-nexus-5x|217|            428|         LG Nexus 5X|  null|    188|  161|\n",
      "|Samsung Exynos 88...|Samsung|samsung-galaxy-s7...|219|           1116|Samsung Galaxy S7...|  1643|   3079|  311|\n",
      "+--------------------+-------+--------------------+---+---------------+--------------------+------+-------+-----+\n",
      "only showing top 10 rows\n",
      "\n"
     ]
    }
   ],
   "source": [
    "// Use SQL command\n",
    "\n",
    "spark.sql(\"select * from benchmark\").show(10)"
   ]
  },
  {
   "cell_type": "code",
   "execution_count": 34,
   "metadata": {},
   "outputs": [
    {
     "name": "stdout",
     "output_type": "stream",
     "text": [
      "+--------------------+-------+-------+---+---------------+---------+------+-------+-----+\n",
      "|         description| family|   icon| id|multicore_score|     name|opencl|samples|score|\n",
      "+--------------------+-------+-------+---+---------------+---------+------+-------+-----+\n",
      "|Qualcomm Snapdrag...|OnePlus|oneplus|993|           3280|OnePlus 8|  3113|   6360|  898|\n",
      "+--------------------+-------+-------+---+---------------+---------+------+-------+-----+\n",
      "\n"
     ]
    }
   ],
   "source": [
    "// Show max of score\n",
    "\n",
    "spark.sql(\"select * from benchmark order by score desc limit 1\").show()"
   ]
  },
  {
   "cell_type": "code",
   "execution_count": 35,
   "metadata": {},
   "outputs": [
    {
     "name": "stdout",
     "output_type": "stream",
     "text": [
      "+--------------------+\n",
      "|         description|\n",
      "+--------------------+\n",
      "|Qualcomm Snapdrag...|\n",
      "+--------------------+\n",
      "\n"
     ]
    }
   ],
   "source": [
    "// What is the most powerful chip\n",
    "\n",
    "spark.sql(\"select description from benchmark order by score limit 1\").show()"
   ]
  },
  {
   "cell_type": "code",
   "execution_count": null,
   "metadata": {},
   "outputs": [],
   "source": []
  }
 ],
 "metadata": {
  "kernelspec": {
   "display_name": "spylon-kernel",
   "language": "scala",
   "name": "spylon-kernel"
  },
  "language_info": {
   "codemirror_mode": "text/x-scala",
   "file_extension": ".scala",
   "help_links": [
    {
     "text": "MetaKernel Magics",
     "url": "https://metakernel.readthedocs.io/en/latest/source/README.html"
    }
   ],
   "mimetype": "text/x-scala",
   "name": "scala",
   "pygments_lexer": "scala",
   "version": "0.4.1"
  }
 },
 "nbformat": 4,
 "nbformat_minor": 4
}
